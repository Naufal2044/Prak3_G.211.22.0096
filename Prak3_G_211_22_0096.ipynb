{
  "nbformat": 4,
  "nbformat_minor": 0,
  "metadata": {
    "colab": {
      "provenance": []
    },
    "kernelspec": {
      "name": "python3",
      "display_name": "Python 3"
    },
    "language_info": {
      "name": "python"
    }
  },
  "cells": [
    {
      "cell_type": "code",
      "execution_count": 1,
      "metadata": {
        "colab": {
          "base_uri": "https://localhost:8080/"
        },
        "id": "845-emG0Fu00",
        "outputId": "af3f13fc-9abb-437e-a54b-a5b38a875515"
      },
      "outputs": [
        {
          "output_type": "stream",
          "name": "stdout",
          "text": [
            "programming\n"
          ]
        }
      ],
      "source": [
        "# Membuat list kosong untuk menyimpan karakter yang akan diubah\n",
        "def convert(input_list):\n",
        "    result = []\n",
        "\n",
        " # Iterasi melalui setiap karakter dalam input_list\n",
        "    for char in input_list:\n",
        "# Menambahkan setiap karakter ke dalam list result\n",
        "        result.append(char)\n",
        "\n",
        " # Menggabungkan semua karakter dalam list result menjadi satu string\n",
        "    return ''.join(result)\n",
        "\n",
        "# Contoh penggunaan\n",
        "input_list = ['p', 'r', 'o', 'g', 'r', 'a', 'm', 'm', 'i', 'n', 'g']\n",
        "# Memanggil fungsi convert dengan input_list sebagai argumen\n",
        "output = convert(input_list)\n",
        "\n",
        "# Menampilkan output\n",
        "print(output)"
      ]
    }
  ]
}